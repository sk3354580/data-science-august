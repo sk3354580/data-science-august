{
 "cells": [
  {
   "cell_type": "markdown",
   "id": "bc72abdd",
   "metadata": {},
   "source": [
    "# this is introduction"
   ]
  },
  {
   "cell_type": "markdown",
   "id": "5d293ceb",
   "metadata": {},
   "source": [
    "Data Expo 2009 - Airline on-time performance\n",
    "Have you ever been stuck in an airport because your flight was delayed or cancelle and wondered if you could have predicted it if you'd had more data? This is your chance to find out."
   ]
  },
  {
   "cell_type": "code",
   "execution_count": 1,
   "id": "d73de3c4",
   "metadata": {},
   "outputs": [
    {
     "name": "stdout",
     "output_type": "stream",
     "text": [
      " Volume in drive C has no label.\n",
      " Volume Serial Number is 109B-3D84\n",
      "\n",
      " Directory of C:\\Users\\hp\\august data science\n",
      "\n",
      "07/31/2022  09:33 PM    <DIR>          .\n",
      "07/31/2022  09:33 PM    <DIR>          ..\n",
      "07/31/2022  07:04 PM    <DIR>          .ipynb_checkpoints\n",
      "07/31/2022  07:26 PM             1,139 31 july.ipynb\n",
      "07/31/2022  09:33 PM           214,303 airports.csv\n",
      "               2 File(s)        215,442 bytes\n",
      "               3 Dir(s)  29,217,132,544 bytes free\n"
     ]
    }
   ],
   "source": [
    "ls\n"
   ]
  },
  {
   "cell_type": "code",
   "execution_count": 2,
   "id": "39fd60d7",
   "metadata": {},
   "outputs": [
    {
     "data": {
      "text/plain": [
       "'C:\\\\Users\\\\hp\\\\august data science'"
      ]
     },
     "execution_count": 2,
     "metadata": {},
     "output_type": "execute_result"
    }
   ],
   "source": [
    "pwd"
   ]
  },
  {
   "cell_type": "code",
   "execution_count": 4,
   "id": "be9950fd",
   "metadata": {},
   "outputs": [],
   "source": [
    "import pandas as pd\n"
   ]
  },
  {
   "cell_type": "code",
   "execution_count": 5,
   "id": "4717c98e",
   "metadata": {},
   "outputs": [],
   "source": [
    "data = pd.read_csv('airports.csv')"
   ]
  },
  {
   "cell_type": "code",
   "execution_count": 7,
   "id": "04200071",
   "metadata": {},
   "outputs": [
    {
     "data": {
      "text/plain": [
       "3379"
      ]
     },
     "execution_count": 7,
     "metadata": {},
     "output_type": "execute_result"
    }
   ],
   "source": [
    "len(data)"
   ]
  },
  {
   "cell_type": "code",
   "execution_count": null,
   "id": "a34d4815",
   "metadata": {},
   "outputs": [],
   "source": []
  }
 ],
 "metadata": {
  "kernelspec": {
   "display_name": "Python 3 (ipykernel)",
   "language": "python",
   "name": "python3"
  },
  "language_info": {
   "codemirror_mode": {
    "name": "ipython",
    "version": 3
   },
   "file_extension": ".py",
   "mimetype": "text/x-python",
   "name": "python",
   "nbconvert_exporter": "python",
   "pygments_lexer": "ipython3",
   "version": "3.10.5"
  }
 },
 "nbformat": 4,
 "nbformat_minor": 5
}
